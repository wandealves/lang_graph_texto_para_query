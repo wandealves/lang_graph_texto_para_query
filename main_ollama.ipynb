{
 "cells": [
  {
   "cell_type": "code",
   "execution_count": null,
   "metadata": {},
   "outputs": [],
   "source": [
    "%pip install langchain langchain-community langchain-core langgraph openai"
   ]
  },
  {
   "cell_type": "code",
   "execution_count": null,
   "metadata": {},
   "outputs": [],
   "source": [
    "import sqlite3\n",
    "\n",
    "# Conecta ao banco de dados (será criado se não existir)\n",
    "conn = sqlite3.connect('vendas.db')\n",
    "cursor = conn.cursor()"
   ]
  },
  {
   "cell_type": "code",
   "execution_count": null,
   "metadata": {},
   "outputs": [],
   "source": [
    "# Cria a tabela 'produtos' se ela não existir\n",
    "cursor.execute('''\n",
    "CREATE TABLE IF NOT EXISTS produtos (\n",
    "    produto_id INTEGER PRIMARY KEY,\n",
    "    nome TEXT NOT NULL,\n",
    "    preco REAL NOT NULL\n",
    ")\n",
    "''')\n",
    "\n",
    "# Cria a tabela 'filiais' se ela não existir\n",
    "cursor.execute('''\n",
    "CREATE TABLE IF NOT EXISTS filiais (\n",
    "    filial_id INTEGER PRIMARY KEY,\n",
    "    nome TEXT NOT NULL,\n",
    "    localizacao TEXT NOT NULL\n",
    ")\n",
    "''')\n",
    "\n",
    "# Cria a tabela 'vendas' se ela não existir\n",
    "cursor.execute('''\n",
    "CREATE TABLE IF NOT EXISTS vendas (\n",
    "    venda_id INTEGER PRIMARY KEY,\n",
    "    produto_id INTEGER,\n",
    "    filial_id INTEGER,\n",
    "    quantidade_vendida INTEGER NOT NULL,\n",
    "    data_venda DATE NOT NULL,\n",
    "    FOREIGN KEY (produto_id) REFERENCES produtos (produto_id),\n",
    "    FOREIGN KEY (filial_id) REFERENCES filiais (filial_id)\n",
    ")\n",
    "''')\n",
    "\n",
    "# Confirma as alterações\n",
    "conn.commit()"
   ]
  },
  {
   "cell_type": "code",
   "execution_count": null,
   "metadata": {},
   "outputs": [],
   "source": [
    "# Inserir dados na tabela 'produtos'\n",
    "produtos = [\n",
    "    (1, 'Notebook', 3500.00),\n",
    "    (2, 'Smartphone', 2000.00),\n",
    "    (3, 'Tablet', 1500.00),\n",
    "    (4, 'Monitor', 800.00),\n",
    "    (5, 'Teclado', 150.00)\n",
    "]\n",
    "\n",
    "cursor.executemany('INSERT OR IGNORE INTO produtos VALUES (?, ?, ?)', produtos)\n",
    "\n",
    "# Inserir dados na tabela 'filiais'\n",
    "filiais = [\n",
    "    (1, 'Filial Centro', 'São Paulo'),\n",
    "    (2, 'Filial Norte', 'Rio de Janeiro'),\n",
    "    (3, 'Filial Sul', 'Porto Alegre')\n",
    "]\n",
    "\n",
    "cursor.executemany('INSERT OR IGNORE INTO filiais VALUES (?, ?, ?)', filiais)\n",
    "\n",
    "# Inserir dados na tabela 'vendas'\n",
    "vendas = [\n",
    "    (1, 1, 1, 10, '2023-01-15'),\n",
    "    (2, 2, 1, 5, '2023-01-16'),\n",
    "    (3, 3, 2, 7, '2023-01-17'),\n",
    "    (4, 1, 2, 3, '2023-01-18'),\n",
    "    (5, 4, 3, 4, '2023-01-19'),\n",
    "    (6, 5, 3, 20, '2023-01-20'),\n",
    "    (7, 2, 1, 6, '2023-01-21'),\n",
    "    (8, 3, 2, 8, '2023-01-22'),\n",
    "    (9, 4, 3, 2, '2023-01-23'),\n",
    "    (10, 5, 1, 15, '2023-01-24')\n",
    "]\n",
    "\n",
    "cursor.executemany('INSERT OR IGNORE INTO vendas VALUES (?, ?, ?, ?, ?)', vendas)\n",
    "\n",
    "# Confirma as alterações\n",
    "conn.commit()\n",
    "\n",
    "# Aviso sobre dados existentes\n",
    "print(\"Dados inseridos ou ignorados se já existentes.\")"
   ]
  },
  {
   "cell_type": "code",
   "execution_count": null,
   "metadata": {},
   "outputs": [],
   "source": [
    "# Consultar todos os produtos\n",
    "cursor.execute('SELECT * FROM produtos')\n",
    "produtos = cursor.fetchall()\n",
    "print('Produtos:')\n",
    "for produto in produtos:\n",
    "    print(produto)\n",
    "\n",
    "# Consultar todas as filiais\n",
    "cursor.execute('SELECT * FROM filiais')\n",
    "filiais = cursor.fetchall()\n",
    "print('\\nFiliais:')\n",
    "for filial in filiais:\n",
    "    print(filial)\n",
    "\n",
    "# Consultar todas as vendas\n",
    "cursor.execute('SELECT * FROM vendas')\n",
    "vendas = cursor.fetchall()\n",
    "print('\\nVendas:')\n",
    "for venda in vendas:\n",
    "    print(venda)"
   ]
  },
  {
   "cell_type": "code",
   "execution_count": null,
   "metadata": {},
   "outputs": [],
   "source": [
    "# Fecha a conexão com o banco de dados\n",
    "conn.close()"
   ]
  },
  {
   "cell_type": "code",
   "execution_count": null,
   "metadata": {},
   "outputs": [],
   "source": [
    "import warnings\n",
    "warnings.filterwarnings('ignore')\n",
    "\n",
    "import json\n",
    "import os\n",
    "#from langchain.chat_models import ChatOpenAI\n",
    "from langchain_community.llms import Ollama\n",
    "from langgraph.graph import StateGraph, END\n",
    "from langchain.schema import SystemMessage, HumanMessage\n",
    "from typing import TypedDict, List\n",
    "from langchain_core.runnables.graph import MermaidDrawMethod\n",
    "from IPython.display import display, Image"
   ]
  },
  {
   "cell_type": "code",
   "execution_count": null,
   "metadata": {},
   "outputs": [],
   "source": [
    "model = Ollama(model=\"gemma2:2b\")"
   ]
  },
  {
   "cell_type": "code",
   "execution_count": null,
   "metadata": {},
   "outputs": [],
   "source": [
    "class AgentState(TypedDict):\n",
    "    question: str\n",
    "    table_schemas: str\n",
    "    database: str\n",
    "    sql: str\n",
    "    reflect: List[str]\n",
    "    accepted: bool\n",
    "    revision: int\n",
    "    max_revision: int"
   ]
  },
  {
   "cell_type": "code",
   "execution_count": null,
   "metadata": {},
   "outputs": [],
   "source": [
    "def get_database_schema(db_path):\n",
    "    conn = sqlite3.connect(db_path)\n",
    "    cursor = conn.cursor()\n",
    "    cursor.execute(\"SELECT name FROM sqlite_master WHERE type='table';\")\n",
    "    tables = cursor.fetchall()\n",
    "    schema = ''\n",
    "    for table_name in tables:\n",
    "        table_name = table_name[0]\n",
    "        cursor.execute(f\"PRAGMA table_info({table_name});\")\n",
    "        columns = cursor.fetchall()\n",
    "        schema += f\"Table: {table_name}\\n\"\n",
    "        schema += \"Columns:\\n\"\n",
    "        for column in columns:\n",
    "            schema += f\" - {column[1]} ({column[2]})\\n\"\n",
    "        schema += '\\n'\n",
    "    conn.close()\n",
    "    return schema\n",
    "\n",
    "# Obter o esquema do banco de dados\n",
    "db_schema = get_database_schema('vendas.db')\n",
    "print(db_schema)"
   ]
  },
  {
   "cell_type": "code",
   "execution_count": null,
   "metadata": {},
   "outputs": [],
   "source": [
    "def search_engineer_node(state: AgentState):\n",
    "    # Fornecemos o esquema do banco de dados diretamente\n",
    "    state['table_schemas'] = db_schema\n",
    "    state['database'] = 'vendas.db'\n",
    "    return {\"table_schemas\": state['table_schemas'], \"database\": state['database']}"
   ]
  },
  {
   "cell_type": "code",
   "execution_count": null,
   "metadata": {},
   "outputs": [],
   "source": [
    "def senior_sql_writer_node(state: AgentState):\n",
    "    role_prompt = \"\"\"\n",
    "Você é um especialista em SQL. Sua tarefa é escrever **apenas** a consulta SQL que responda à pergunta do usuário. A consulta deve:\n",
    "\n",
    "- Usar a sintaxe SQL padrão em inglês.\n",
    "- Utilizar os nomes das tabelas e colunas conforme definidos no esquema do banco de dados.\n",
    "- Não incluir comentários, explicações ou qualquer texto adicional.\n",
    "- Não utilizar formatação de código ou markdown.\n",
    "- Retornar apenas a consulta SQL válida.\n",
    "\"\"\"\n",
    "    instruction = f\"Esquema do banco de dados:\\n{state['table_schemas']}\\n\"\n",
    "    if len(state['reflect']) > 0:\n",
    "        instruction += f\"Considere os seguintes feedbacks:\\n{chr(10).join(state['reflect'])}\\n\"\n",
    "    instruction += f\"Escreva a consulta SQL que responda à seguinte pergunta: {state['question']}\\n\"\n",
    "    prompt = f\"{role_prompt}\\n{instruction}\"\n",
    "    response = model.generate([prompt]).generations[0][0].text\n",
    "    return {\"sql\": response.strip(), \"revision\": state['revision'] + 1}"
   ]
  },
  {
   "cell_type": "code",
   "execution_count": null,
   "metadata": {},
   "outputs": [],
   "source": [
    "#Função do QA Engineer\n",
    "def senior_qa_engineer_node(state: AgentState):\n",
    "    role_prompt = \"\"\"\n",
    "Você é um engenheiro de QA especializado em SQL. Sua tarefa é verificar se a consulta SQL fornecida responde corretamente à pergunta do usuário.\n",
    "\"\"\"\n",
    "    instruction = f\"Com base no seguinte esquema de banco de dados:\\n{state['table_schemas']}\\n\"\n",
    "    instruction += f\"E na seguinte consulta SQL:\\n{state['sql']}\\n\"\n",
    "    instruction += f\"Verifique se a consulta SQL pode completar a tarefa: {state['question']}\\n\"\n",
    "    instruction += \"Responda 'ACEITO' se estiver correta ou 'REJEITADO' se não estiver.\\n\"\n",
    "    prompt = f\"{role_prompt}\\n{instruction}\"\n",
    "    response = model.generate([prompt]).generations[0][0].text\n",
    "    return {\"accepted\": 'ACEITO' in response.upper()}"
   ]
  },
  {
   "cell_type": "code",
   "execution_count": null,
   "metadata": {},
   "outputs": [],
   "source": [
    "#Função do Chief DBA\n",
    "def chief_dba_node(state: AgentState):\n",
    "    role_prompt = \"\"\"\n",
    "Você é um DBA experiente. Sua tarefa é fornecer feedback detalhado para melhorar a consulta SQL fornecida.\n",
    "\"\"\"\n",
    "    instruction = f\"Com base no seguinte esquema de banco de dados:\\n{state['table_schemas']}\\n\"\n",
    "    instruction += f\"E na seguinte consulta SQL:\\n{state['sql']}\\n\"\n",
    "    instruction += f\"Por favor, forneça recomendações úteis e detalhadas para ajudar a melhorar a consulta SQL para a tarefa: {state['question']}\\n\"\n",
    "    prompt = f\"{role_prompt}\\n{instruction}\"\n",
    "    response = model.generate([prompt]).generations[0][0].text\n",
    "    return {\"reflect\": [response]}"
   ]
  },
  {
   "cell_type": "code",
   "execution_count": null,
   "metadata": {},
   "outputs": [],
   "source": [
    "builder = StateGraph(AgentState)\n",
    "\n",
    "# Adicionar nós\n",
    "builder.add_node(\"search_engineer\", search_engineer_node)\n",
    "builder.add_node(\"sql_writer\", senior_sql_writer_node)\n",
    "builder.add_node(\"qa_engineer\", senior_qa_engineer_node)\n",
    "builder.add_node(\"chief_dba\", chief_dba_node)\n",
    "\n",
    "# Adicionar arestas\n",
    "builder.add_edge(\"search_engineer\", \"sql_writer\")\n",
    "builder.add_edge(\"sql_writer\", \"qa_engineer\")\n",
    "builder.add_edge(\"chief_dba\", \"sql_writer\")\n",
    "\n",
    "# Adicionar arestas condicionais\n",
    "builder.add_conditional_edges(\n",
    "    \"qa_engineer\", \n",
    "    lambda state: END if state['accepted'] or state['revision'] >= state['max_revision'] else \"reflect\", \n",
    "    {END: END, \"reflect\": \"chief_dba\"}\n",
    ")\n",
    "\n",
    "# Definir ponto de entrada\n",
    "builder.set_entry_point(\"search_engineer\")\n",
    "\n",
    "# Compilar o grafo\n",
    "graph = builder.compile()"
   ]
  },
  {
   "cell_type": "code",
   "execution_count": 26,
   "metadata": {},
   "outputs": [
    {
     "data": {
      "image/png": "[encoded data removed]",
      "text/plain": [
       "<IPython.core.display.Image object>"
      ]
     },
     "metadata": {},
     "output_type": "display_data"
    }
   ],
   "source": [
    "display(\n",
    "    Image(\n",
    "        graph.get_graph().draw_mermaid_png(\n",
    "            draw_method=MermaidDrawMethod.API,\n",
    "        )\n",
    "    )\n",
    ")"
   ]
  },
  {
   "cell_type": "code",
   "execution_count": null,
   "metadata": {},
   "outputs": [],
   "source": [
    "from langgraph.checkpoint.memory import MemorySaver\n",
    "\n",
    "# Configurar o checkpointer usando MemorySaver\n",
    "memory = MemorySaver()"
   ]
  },
  {
   "cell_type": "code",
   "execution_count": null,
   "metadata": {},
   "outputs": [],
   "source": [
    "# Compilar o grafo com o checkpointer\n",
    "graph = builder.compile(checkpointer=memory)"
   ]
  },
  {
   "cell_type": "code",
   "execution_count": null,
   "metadata": {},
   "outputs": [],
   "source": [
    "# Definir a pergunta\n",
    "question = \"Qual produto vendida na Filial Norte?\"\n",
    "\n",
    "# Inicializar o estado\n",
    "initial_state = {\n",
    "    'question': question,\n",
    "    'table_schemas': '',  # Será preenchido pelo 'search_engineer_node'\n",
    "    'database': '',       # Será preenchido pelo 'search_engineer_node'\n",
    "    'sql': '',\n",
    "    'reflect': [],\n",
    "    'accepted': False,\n",
    "    'revision': 0,\n",
    "    'max_revision': 2\n",
    "}\n",
    "\n",
    "# Executar o grafo\n",
    "thread = {\"configurable\": {\"thread_id\": \"1\"}}\n",
    "for s in graph.stream(initial_state, thread):\n",
    "    pass  # O processamento é feito internamente\n",
    "\n",
    "# Obter o estado final\n",
    "state = graph.get_state(thread)"
   ]
  },
  {
   "cell_type": "code",
   "execution_count": 27,
   "metadata": {},
   "outputs": [
    {
     "name": "stdout",
     "output_type": "stream",
     "text": [
      "Banco de dados: vendas.db\n",
      "Consulta SQL:\n",
      " ```sql\n",
      "SELECT nome\n",
      "FROM produtos\n",
      "JOIN vendas ON produtos.produto_id = vendas.produto_id \n",
      "WHERE vendas.filial_id IN (SELECT filial_id FROM filiais WHERE nome='Norte');  \n",
      "```\n"
     ]
    }
   ],
   "source": [
    "print('Banco de dados:', state.values['database'])\n",
    "print('Consulta SQL:\\n', state.values['sql'])"
   ]
  },
  {
   "cell_type": "code",
   "execution_count": 28,
   "metadata": {},
   "outputs": [],
   "source": [
    "import re\n",
    "\n",
    "def extract_sql(query_text):\n",
    "    # Remove trechos de texto antes e depois da consulta SQL\n",
    "    # Procura por conteúdo entre ```sql e ```\n",
    "    match = re.search(r'```sql\\s*(.*?)\\s*```', query_text, re.DOTALL | re.IGNORECASE)\n",
    "    if match:\n",
    "        return match.group(1).strip()\n",
    "    else:\n",
    "        # Se não encontrar, tenta extrair a partir de \"SELECT\"\n",
    "        match = re.search(r'(SELECT .*?);', query_text, re.DOTALL | re.IGNORECASE)\n",
    "        if match:\n",
    "            return match.group(1).strip() + ';'\n",
    "        else:\n",
    "            # Caso não consiga extrair, retorna o texto original\n",
    "            return query_text.strip()"
   ]
  },
  {
   "cell_type": "code",
   "execution_count": 29,
   "metadata": {},
   "outputs": [
    {
     "name": "stdout",
     "output_type": "stream",
     "text": [
      "Consulta SQL Extraída:\n",
      " SELECT nome\n",
      "FROM produtos\n",
      "JOIN vendas ON produtos.produto_id = vendas.produto_id \n",
      "WHERE vendas.filial_id IN (SELECT filial_id FROM filiais WHERE nome='Norte');\n",
      "\n",
      "Resultados da consulta:\n"
     ]
    }
   ],
   "source": [
    "# Extrair a consulta SQL limpa\n",
    "clean_sql = extract_sql(state.values['sql'])\n",
    "print('Consulta SQL Extraída:\\n', clean_sql)\n",
    "\n",
    "# Executar a consulta SQL\n",
    "try:\n",
    "    db_path = 'vendas.db'\n",
    "    conn = sqlite3.connect(db_path)\n",
    "    cursor = conn.cursor()\n",
    "    cursor.execute(clean_sql)\n",
    "    results = cursor.fetchall()\n",
    "    print('\\nResultados da consulta:')\n",
    "    for result in results:\n",
    "        print(result)\n",
    "    conn.close()\n",
    "except Exception as e:\n",
    "    print('Erro ao executar a consulta SQL:', e)"
   ]
  },
  {
   "cell_type": "code",
   "execution_count": null,
   "metadata": {},
   "outputs": [],
   "source": [
    "import sqlite3\n",
    "\n",
    "# Conectar ao banco de dados\n",
    "conn = sqlite3.connect(state.values['database'])\n",
    "cursor = conn.cursor()\n",
    "\n",
    "# Executar a consulta SQL\n",
    "try:\n",
    "    cursor.execute(state.values['sql'])\n",
    "    results = cursor.fetchall()\n",
    "    print('\\n Resultados da consulta:')\n",
    "    for result in results:\n",
    "        print(result)\n",
    "except Exception as e:\n",
    "    print('Erro ao executar a consulta SQL:', e)\n",
    "\n",
    "# Fechar a conexão\n",
    "conn.close()"
   ]
  },
  {
   "cell_type": "code",
   "execution_count": null,
   "metadata": {},
   "outputs": [],
   "source": [
    "# Definir a pergunta\n",
    "question = \"Qual produto teve a maior quantidade vendida na Filial Sul?\"\n",
    "\n",
    "# Inicializar o estado\n",
    "initial_state = {\n",
    "    'question': question,\n",
    "    'table_schemas': '',  # Será preenchido pelo 'search_engineer_node'\n",
    "    'database': '',       # Será preenchido pelo 'search_engineer_node'\n",
    "    'sql': '',\n",
    "    'reflect': [],\n",
    "    'accepted': False,\n",
    "    'revision': 0,\n",
    "    'max_revision': 2\n",
    "}\n",
    "\n",
    "# Executar o grafo\n",
    "thread = {\"configurable\": {\"thread_id\": \"1\"}}\n",
    "for s in graph.stream(initial_state, thread):\n",
    "    pass  # O processamento é feito internamente\n",
    "\n",
    "# Obter o estado final\n",
    "state = graph.get_state(thread)"
   ]
  },
  {
   "cell_type": "code",
   "execution_count": null,
   "metadata": {},
   "outputs": [],
   "source": [
    "# Extrair a consulta SQL limpa\n",
    "clean_sql = extract_sql(state.values['sql'])\n",
    "print('Consulta SQL Extraída:\\n', clean_sql)\n",
    "\n",
    "# Executar a consulta SQL\n",
    "try:\n",
    "    cursor.execute(clean_sql)\n",
    "    results = cursor.fetchall()\n",
    "    print('\\nResultados da consulta:')\n",
    "    for result in results:\n",
    "        print(result)\n",
    "except Exception as e:\n",
    "    print('Erro ao executar a consulta SQL:', e)"
   ]
  },
  {
   "cell_type": "code",
   "execution_count": null,
   "metadata": {},
   "outputs": [],
   "source": [
    "import sqlite3\n",
    "\n",
    "# Conectar ao banco de dados\n",
    "conn = sqlite3.connect(state.values['database'])\n",
    "cursor = conn.cursor()\n",
    "\n",
    "# Executar a consulta SQL\n",
    "try:\n",
    "    cursor.execute(state.values['sql'])\n",
    "    results = cursor.fetchall()\n",
    "    print('\\n Resultados da consulta:')\n",
    "    for result in results:\n",
    "        print(result)\n",
    "except Exception as e:\n",
    "    print('Erro ao executar a consulta SQL:', e)\n",
    "\n",
    "# Fechar a conexão\n",
    "conn.close()"
   ]
  },
  {
   "cell_type": "code",
   "execution_count": null,
   "metadata": {},
   "outputs": [],
   "source": [
    "# Definir a pergunta\n",
    "question = \"Qual produto tem o maior preço entre todos as Filiais?\"\n",
    "\n",
    "# Inicializar o estado\n",
    "initial_state = {\n",
    "    'question': question,\n",
    "    'table_schemas': '',  # Será preenchido pelo 'search_engineer_node'\n",
    "    'database': '',       # Será preenchido pelo 'search_engineer_node'\n",
    "    'sql': '',\n",
    "    'reflect': [],\n",
    "    'accepted': False,\n",
    "    'revision': 0,\n",
    "    'max_revision': 2\n",
    "}\n",
    "\n",
    "# Executar o grafo\n",
    "thread = {\"configurable\": {\"thread_id\": \"1\"}}\n",
    "for s in graph.stream(initial_state, thread):\n",
    "    pass  # O processamento é feito internamente\n",
    "\n",
    "# Obter o estado final\n",
    "state = graph.get_state(thread)"
   ]
  },
  {
   "cell_type": "code",
   "execution_count": null,
   "metadata": {},
   "outputs": [],
   "source": [
    "# Extrair a consulta SQL limpa\n",
    "clean_sql = extract_sql(state.values['sql'])\n",
    "print('Consulta SQL Extraída:\\n', clean_sql)\n",
    "\n",
    "# Executar a consulta SQL\n",
    "try:\n",
    "    cursor.execute(clean_sql)\n",
    "    results = cursor.fetchall()\n",
    "    print('\\nResultados da consulta:')\n",
    "    for result in results:\n",
    "        print(result)\n",
    "except Exception as e:\n",
    "    print('Erro ao executar a consulta SQL:', e)"
   ]
  },
  {
   "cell_type": "code",
   "execution_count": null,
   "metadata": {},
   "outputs": [],
   "source": [
    "import sqlite3\n",
    "\n",
    "# Conectar ao banco de dados\n",
    "conn = sqlite3.connect(state.values['database'])\n",
    "cursor = conn.cursor()\n",
    "\n",
    "# Executar a consulta SQL\n",
    "try:\n",
    "    cursor.execute(state.values['sql'])\n",
    "    results = cursor.fetchall()\n",
    "    print('\\n Resultados da consulta:')\n",
    "    for result in results:\n",
    "        print(result)\n",
    "except Exception as e:\n",
    "    print('Erro ao executar a consulta SQL:', e)\n",
    "\n",
    "# Fechar a conexão\n",
    "conn.close()"
   ]
  }
 ],
 "metadata": {
  "kernelspec": {
   "display_name": "venv",
   "language": "python",
   "name": "python3"
  },
  "language_info": {
   "codemirror_mode": {
    "name": "ipython",
    "version": 3
   },
   "file_extension": ".py",
   "mimetype": "text/x-python",
   "name": "python",
   "nbconvert_exporter": "python",
   "pygments_lexer": "ipython3",
   "version": "3.10.9"
  }
 },
 "nbformat": 4,
 "nbformat_minor": 2
}
